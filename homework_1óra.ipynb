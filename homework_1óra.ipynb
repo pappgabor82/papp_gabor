{
 "cells": [
  {
   "cell_type": "markdown",
   "metadata": {},
   "source": [
    "1. Adott az alábbi karakterlánc. Módosítsd úgy, hogy a print-el kiíratva a két verssor külön sorba kerüljön:\n",
    "“Ég a napmelegtől a kopár szík sarja Tikkadt szöcskenyájak legelésznek rajta”"
   ]
  },
  {
   "cell_type": "code",
   "execution_count": 5,
   "metadata": {},
   "outputs": [
    {
     "name": "stdout",
     "output_type": "stream",
     "text": [
      "Ég a napmelegtől a kopár szík sarja \n",
      "Tikkadt szöcskenyájak legelésznek rajta\n"
     ]
    }
   ],
   "source": [
    "print(f\"Ég a napmelegtől a kopár szík sarja \\nTikkadt szöcskenyájak legelésznek rajta\")\n"
   ]
  },
  {
   "cell_type": "markdown",
   "metadata": {},
   "source": [
    "5. Készíts programot, amely egy két szóból álló, egyetlen szóközzel határolt karakterlánc szavait megcseréli."
   ]
  },
  {
   "cell_type": "code",
   "execution_count": 49,
   "metadata": {},
   "outputs": [
    {
     "name": "stdout",
     "output_type": "stream",
     "text": [
      "Kérek egy két szóból álló, egyetlen szóközzel határolt karakterláncot: wr dsf\n",
      "dsf wr\n"
     ]
    }
   ],
   "source": [
    "str =  input(\"Kérek egy két szóból álló, egyetlen szóközzel határolt karakterláncot: \")\n",
    "masodik_tag = str[:str.find(\" \")]\n",
    "elso_tag = str.replace(masodik_tag,\"\").strip()\n",
    "print(f\"{elso_tag} {masodik_tag}\")\n"
   ]
  },
  {
   "cell_type": "markdown",
   "metadata": {},
   "source": [
    "9. Készíts programot, amely egy két szóból álló, egyetlen szóközzel határolt, kisbetűs nevet javít ki: nemecsek ernő -> Nemecsek Ernő. Próbáld meg úgy is, hogy nem használod a függvényt, ami dedikáltan erre szolgál!"
   ]
  },
  {
   "cell_type": "code",
   "execution_count": 82,
   "metadata": {},
   "outputs": [
    {
     "name": "stdout",
     "output_type": "stream",
     "text": [
      "Kérek egy két szóból álló, egyetlen szóközzel határolt, kisbetűs nevet. Pl.: nemecsek ernő: nemecsek Ernő\n",
      "Nemecsek Ernő\n"
     ]
    }
   ],
   "source": [
    "name = input(\"Kérek egy két szóból álló, egyetlen szóközzel határolt, kisbetűs nevet. Pl.: nemecsek ernő: \")\n",
    "#print(name.title())\n",
    "\n",
    "\n",
    "name = input(\"Kérek egy két szóból álló, egyetlen szóközzel határolt, kisbetűs nevet. Pl.: nemecsek ernő: \")\n",
    "#last_name = name[:name.find(\" \")].capitalize()\n",
    "#first_name = name[name.find(\" \"):].strip().capitalize()\n",
    "#print(f\"{last_name} {first_name}\")\n",
    "\n",
    "name = input(\"Kérek egy két szóból álló, egyetlen szóközzel határolt, kisbetűs nevet. Pl.: nemecsek ernő: \")\n",
    "last_name =name[:1].upper() + name[1:name.find(\" \")]\n",
    "first_name = name[name.find(\" \")+1:name.find(\" \")+2].upper()+ name[name.find(\" \")+2:]\n",
    "print(f\"{last_name} {first_name}\")\n",
    "\n",
    "\n",
    "\n",
    "\n"
   ]
  },
  {
   "cell_type": "markdown",
   "metadata": {},
   "source": [
    "1. Készítsen programot, amely kiszámolja és megjeleníti, hogy 20 ezer Ft mennyit ér euróban és dollárban! az euró árfolyama legyen 352.5 Ft, a dolláré pedig 295.5 Ft a számításhoz használjon változókat! az eredményt egészre kerekítve adja meg!"
   ]
  },
  {
   "cell_type": "code",
   "execution_count": 88,
   "metadata": {},
   "outputs": [
    {
     "name": "stdout",
     "output_type": "stream",
     "text": [
      "Amount in EUR :57.0 - Amount in USD: 68.0\n"
     ]
    }
   ],
   "source": [
    "euro_exchange_rate=352.5\n",
    "dollar_exchange_rate=295.5\n",
    "amount=20000\n",
    "\n",
    "print(F\"Amount in EUR :{round(amount/euro_exchange_rate,0)} - Amount in USD: {round(amount/dollar_exchange_rate,0)}\")"
   ]
  },
  {
   "cell_type": "markdown",
   "metadata": {},
   "source": [
    "3. Számítsuk ki és jelenítsük meg a téglatest térfogatának és felszínének nagyságát, ha élei a=3, b=4 és c=5 egység hosszúak A térfogat: V=abc, a felszín: A=2(ab+ac+bc) A választ esztétikus formában, 1 sorban adjuk meg!"
   ]
  },
  {
   "cell_type": "code",
   "execution_count": 90,
   "metadata": {},
   "outputs": [
    {
     "name": "stdout",
     "output_type": "stream",
     "text": [
      "the edges of the rectangle a=3, b=4 and c=5. The Volumen of the rectangle :60 and the surface of the rectangle 94\n"
     ]
    }
   ],
   "source": [
    "a=3\n",
    "b=4\n",
    "c=5\n",
    "\n",
    "print(F\"the edges of the rectangle a=3, b=4 and c=5. The Volumen of the rectangle {a*b*c} and the surface of the rectangle {2*(a*b+a*c+b*c)}\")"
   ]
  },
  {
   "cell_type": "markdown",
   "metadata": {},
   "source": [
    "7. Készíts programot, megadja két adott szám egész osztási eredményét!"
   ]
  },
  {
   "cell_type": "code",
   "execution_count": 98,
   "metadata": {},
   "outputs": [
    {
     "name": "stdout",
     "output_type": "stream",
     "text": [
      "osztandó:10\n",
      "osztó:4\n",
      "The result:2\n"
     ]
    }
   ],
   "source": [
    "divisible=int(input('osztandó:'))\n",
    "divider=int(input('osztó:'))\n",
    "\n",
    "print(F\"The result:{divisible//divider}\")"
   ]
  },
  {
   "cell_type": "markdown",
   "metadata": {},
   "source": [
    "1. Kérd be a felhasználótól a nevét, majd üdvözöld a kimeneten a teljes nevén!"
   ]
  },
  {
   "cell_type": "code",
   "execution_count": 99,
   "metadata": {},
   "outputs": [
    {
     "name": "stdout",
     "output_type": "stream",
     "text": [
      "Adja meg kérem a teljes nevét: Mócsán Eszter\n",
      "Kedves Mócsán Eszter, üdvözlöm! Legyen szép napja!\n"
     ]
    }
   ],
   "source": [
    "full_name = input(\"Adja meg kérem a teljes nevét: \")\n",
    "print(F\"Kedves {full_name}, üdvözlöm! Legyen szép napja!\")"
   ]
  },
  {
   "cell_type": "markdown",
   "metadata": {},
   "source": [
    "3. Kérd be a felhasználótól egy kör sugarát, és írd ki a területét. Ezúttal nem kell foglalkoznod azzal, ha a felhasználó nem számmá konvertálható értéket ad meg."
   ]
  },
  {
   "cell_type": "code",
   "execution_count": 102,
   "metadata": {},
   "outputs": [
    {
     "name": "stdout",
     "output_type": "stream",
     "text": [
      "Kérem adja meg a kör surgarát23\n",
      "A kör területe: 1661.90111\n"
     ]
    }
   ],
   "source": [
    "r = int(input (\"Kérem adja meg a kör surgarát\"))\n",
    "π = 3.14159\n",
    "print (F\"A kör területe: {π*r**2}\")"
   ]
  },
  {
   "cell_type": "code",
   "execution_count": null,
   "metadata": {},
   "outputs": [],
   "source": []
  }
 ],
 "metadata": {
  "kernelspec": {
   "display_name": "Python 3",
   "language": "python",
   "name": "python3"
  },
  "language_info": {
   "codemirror_mode": {
    "name": "ipython",
    "version": 3
   },
   "file_extension": ".py",
   "mimetype": "text/x-python",
   "name": "python",
   "nbconvert_exporter": "python",
   "pygments_lexer": "ipython3",
   "version": "3.8.5"
  }
 },
 "nbformat": 4,
 "nbformat_minor": 4
}
